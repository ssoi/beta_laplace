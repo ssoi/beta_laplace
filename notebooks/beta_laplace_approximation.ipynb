{
 "cells": [
  {
   "cell_type": "code",
   "execution_count": null,
   "metadata": {},
   "outputs": [],
   "source": [
    "from collections import namedtuple\n",
    "\n",
    "import numpy as np\n",
    "import pandas as pd\n",
    "import pymc3 as pm\n",
    "import theano.tensor as T\n",
    "import matplotlib.pyplot as plt\n",
    "import seaborn as sns\n",
    "\n",
    "%matplotlib inline"
   ]
  },
  {
   "cell_type": "markdown",
   "metadata": {},
   "source": [
    "# Beta-Binomial Regression\n",
    "[TODO]"
   ]
  },
  {
   "cell_type": "code",
   "execution_count": null,
   "metadata": {},
   "outputs": [],
   "source": [
    "def get_beta_binomial_regression_model(y_obs, y_n, covars):\n",
    "    if y_obs.shape[0] != y_n.shape[0]:\n",
    "        raise ValueError('Number of samples and observations must match!')\n",
    "        \n",
    "    if y_obs.shape[0] != covars.shape[0]:\n",
    "        raise ValueError('Number of instances of covariates and samples must match!')\n",
    "    \n",
    "    num_obs = y_obs.shape[0]\n",
    "    num_covars = covars.shape[1]\n",
    "    \n",
    "    model = pm.Model()\n",
    "    \n",
    "    with model:\n",
    "        nu  = pm.Normal('nu', mu=0., sd=1., shape=num_covars)\n",
    "        pi = pm.math.logit(T.dot(covars, nu))\n",
    "        gamma = pm.HalfNormal('gamma', sd=1.)\n",
    "        \n",
    "        alpha = pm.Deterministic(('alpha', (1 - pi)/gamma - 1/gamma) * pi ** 2)\n",
    "        beta = pm.Deterministic('beta', alpha * (1/pi - 1))\n",
    "        \n",
    "        y = pm.BetaBinomial('y', alpha, beta, y_n)\n",
    "        \n",
    "    return model"
   ]
  },
  {
   "cell_type": "code",
   "execution_count": null,
   "metadata": {},
   "outputs": [],
   "source": [
    "Simulation = namedtuple('Simulation', ['y', 'n', 'X', 'nu'])\n",
    "\n",
    "def sim_data(num_obs, num_covars, mean_sample):\n",
    "    X = np.random.randn(num_obs,num_covars)\n",
    "    nu = np.random.randn(num_covars, 1)\n",
    "    \n",
    "    Z = np.dot(X, nu)[0]\n",
    "    pi = np.exp(Z) / (1 + np.exp(Z))\n",
    "    \n",
    "    n = np.random.poisson(mean_sample, num_obs)\n",
    "    \n",
    "    y = np.random.binomial(n, pi)\n",
    "    \n",
    "    return Simulation(y, n, X, nu)"
   ]
  },
  {
   "cell_type": "code",
   "execution_count": null,
   "metadata": {},
   "outputs": [],
   "source": [
    "simulation = sim_data(100, 8, 12)"
   ]
  },
  {
   "cell_type": "code",
   "execution_count": null,
   "metadata": {},
   "outputs": [],
   "source": [
    "beta_binomial_regression = get_beta_binomial_regression_model(simulation.y, simulation.n, simulation.X)"
   ]
  }
 ],
 "metadata": {
  "kernelspec": {
   "display_name": "Python 3",
   "language": "python",
   "name": "python3"
  },
  "language_info": {
   "codemirror_mode": {
    "name": "ipython",
    "version": 3
   },
   "file_extension": ".py",
   "mimetype": "text/x-python",
   "name": "python",
   "nbconvert_exporter": "python",
   "pygments_lexer": "ipython3",
   "version": "3.6.4"
  }
 },
 "nbformat": 4,
 "nbformat_minor": 2
}
